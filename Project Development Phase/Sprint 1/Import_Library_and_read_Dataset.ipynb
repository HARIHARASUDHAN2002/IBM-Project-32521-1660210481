{
  "nbformat": 4,
  "nbformat_minor": 0,
  "metadata": {
    "colab": {
      "provenance": []
    },
    "kernelspec": {
      "name": "python3",
      "display_name": "Python 3"
    },
    "language_info": {
      "name": "python"
    }
  },
  "cells": [
    {
      "cell_type": "markdown",
      "source": [
        "**Import Library**"
      ],
      "metadata": {
        "id": "Bz5zO5dKrkq2"
      }
    },
    {
      "cell_type": "code",
      "source": [
        "import pandas as pd\n",
        "import numpy as np\n",
        "import matplotlib.pyplot as plt\n",
        "import tensorflow as tf\n",
        "import tensorflow \n",
        "from tensorflow import keras\n",
        "from keras.layers import Dense"
      ],
      "metadata": {
        "id": "mYNBCaOWruqW"
      },
      "execution_count": 1,
      "outputs": []
    },
    {
      "cell_type": "markdown",
      "source": [
        "**Read Dataset**"
      ],
      "metadata": {
        "id": "M9jvO_m_rv8_"
      }
    },
    {
      "cell_type": "code",
      "source": [
        "data = pd.read_csv(\"/content/sample_data/Dataset_CKD.csv\")\n",
        "print(data)"
      ],
      "metadata": {
        "colab": {
          "base_uri": "https://localhost:8080/"
        },
        "id": "f73pW22CrzHJ",
        "outputId": "d5fed344-2639-4e9e-aa43-f2ea44bbe561"
      },
      "execution_count": 5,
      "outputs": [
        {
          "output_type": "stream",
          "name": "stdout",
          "text": [
            "      id   age    bp     sg   al   su     rbc        pc         pcc  \\\n",
            "0      0  48.0  80.0  1.020  1.0  0.0     NaN    normal  notpresent   \n",
            "1      1   7.0  50.0  1.020  4.0  0.0     NaN    normal  notpresent   \n",
            "2      2  62.0  80.0  1.010  2.0  3.0  normal    normal  notpresent   \n",
            "3      3  48.0  70.0  1.005  4.0  0.0  normal  abnormal     present   \n",
            "4      4  51.0  80.0  1.010  2.0  0.0  normal    normal  notpresent   \n",
            "..   ...   ...   ...    ...  ...  ...     ...       ...         ...   \n",
            "395  395  55.0  80.0  1.020  0.0  0.0  normal    normal  notpresent   \n",
            "396  396  42.0  70.0  1.025  0.0  0.0  normal    normal  notpresent   \n",
            "397  397  12.0  80.0  1.020  0.0  0.0  normal    normal  notpresent   \n",
            "398  398  17.0  60.0  1.025  0.0  0.0  normal    normal  notpresent   \n",
            "399  399  58.0  80.0  1.025  0.0  0.0  normal    normal  notpresent   \n",
            "\n",
            "             ba  ...  pcv    wc   rc  htn   dm  cad appet   pe  ane  \\\n",
            "0    notpresent  ...   44  7800  5.2  yes  yes   no  good   no   no   \n",
            "1    notpresent  ...   38  6000  NaN   no   no   no  good   no   no   \n",
            "2    notpresent  ...   31  7500  NaN   no  yes   no  poor   no  yes   \n",
            "3    notpresent  ...   32  6700  3.9  yes   no   no  poor  yes  yes   \n",
            "4    notpresent  ...   35  7300  4.6   no   no   no  good   no   no   \n",
            "..          ...  ...  ...   ...  ...  ...  ...  ...   ...  ...  ...   \n",
            "395  notpresent  ...   47  6700  4.9   no   no   no  good   no   no   \n",
            "396  notpresent  ...   54  7800  6.2   no   no   no  good   no   no   \n",
            "397  notpresent  ...   49  6600  5.4   no   no   no  good   no   no   \n",
            "398  notpresent  ...   51  7200  5.9   no   no   no  good   no   no   \n",
            "399  notpresent  ...   53  6800  6.1   no   no   no  good   no   no   \n",
            "\n",
            "    classification  \n",
            "0              ckd  \n",
            "1              ckd  \n",
            "2              ckd  \n",
            "3              ckd  \n",
            "4              ckd  \n",
            "..             ...  \n",
            "395         notckd  \n",
            "396         notckd  \n",
            "397         notckd  \n",
            "398         notckd  \n",
            "399         notckd  \n",
            "\n",
            "[400 rows x 26 columns]\n"
          ]
        }
      ]
    }
  ]
}